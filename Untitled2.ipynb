{
 "cells": [
  {
   "cell_type": "code",
   "execution_count": 1,
   "metadata": {},
   "outputs": [
    {
     "name": "stdout",
     "output_type": "stream",
     "text": [
      "Requirement already satisfied: requests in c:\\users\\hp\\anaconda3\\lib\\site-packages (2.22.0)\n",
      "Requirement already satisfied: chardet<3.1.0,>=3.0.2 in c:\\users\\hp\\anaconda3\\lib\\site-packages (from requests) (3.0.4)\n",
      "Requirement already satisfied: urllib3!=1.25.0,!=1.25.1,<1.26,>=1.21.1 in c:\\users\\hp\\anaconda3\\lib\\site-packages (from requests) (1.24.2)\n",
      "Requirement already satisfied: certifi>=2017.4.17 in c:\\users\\hp\\anaconda3\\lib\\site-packages (from requests) (2019.6.16)\n",
      "Requirement already satisfied: idna<2.9,>=2.5 in c:\\users\\hp\\anaconda3\\lib\\site-packages (from requests) (2.8)\n"
     ]
    }
   ],
   "source": [
    "!pip install requests"
   ]
  },
  {
   "cell_type": "code",
   "execution_count": 2,
   "metadata": {},
   "outputs": [
    {
     "name": "stdout",
     "output_type": "stream",
     "text": [
      "Requirement already satisfied: beautifulsoup4 in c:\\users\\hp\\anaconda3\\lib\\site-packages (4.7.1)\n",
      "Requirement already satisfied: soupsieve>=1.2 in c:\\users\\hp\\anaconda3\\lib\\site-packages (from beautifulsoup4) (1.8)\n"
     ]
    }
   ],
   "source": [
    "!pip install beautifulsoup4"
   ]
  },
  {
   "cell_type": "code",
   "execution_count": 3,
   "metadata": {},
   "outputs": [],
   "source": [
    "import json\n",
    "import requests\n",
    "from bs4 import BeautifulSoup\n",
    "import pandas\n",
    "import re"
   ]
  },
  {
   "cell_type": "code",
   "execution_count": 32,
   "metadata": {},
   "outputs": [],
   "source": [
    "headers = {\n",
    "    'User-Agent': 'Mozilla/5.0 (Macintosh; Intel Mac OS X 10_11_6) AppleWebKit/537.36 (KHTML, like Gecko) Chrome/61.0.3163.100 Safari/537.36'}\n",
    "page = 1\n",
    "list_restaurants = []\n",
    "c = 1"
   ]
  },
  {
   "cell_type": "code",
   "execution_count": 33,
   "metadata": {},
   "outputs": [],
   "source": [
    "for num in range(0, 6):\n",
    "    url = \"https://www.zomato.com/bangalore/south-bangalore-restaurants?page={0}\".format(page)\n",
    "    response = requests.get(url,headers=headers)\n",
    "    content = response.content\n",
    "    soup = BeautifulSoup(content, \"html.parser\")\n",
    "    s_list = soup.find_all(\"div\", {'id': 'orig-search-list'})\n",
    "    list_content = s_list[0].find_all(\"div\", {'class': 'content'})\n",
    "    for i in range(0, 15):\n",
    "        restaurant_name = list_content[i].find(\"a\", attrs={'data-result-type': 'ResCard_Name'})\n",
    "        restaurant_name = restaurant_name.string.strip()\n",
    "        locality = list_content[i].find(\"b\")\n",
    "        locality = locality.string.strip()\n",
    "        ratings = list_content[i].find(\"div\",attrs= {'data-variation': 'mini inverted'})\n",
    "        ratings = ratings.string.split()[0]\n",
    "        res_type = list_content[i].find_all(\"div\",attrs= {'class': 'col-s-12'})\n",
    "        type_ = []\n",
    "        for x in res_type:\n",
    "            type_ = x.find(\"a\", attrs={'class': 'zdark ttupper fontsize6'})\n",
    "            if type_ is None:\n",
    "                continue\n",
    "            type_ = type_.string.split()\n",
    "        if ratings is None:\n",
    "            continue\n",
    "        votes = list_content[i].find(\"span\",attrs= {'class': re.compile(r'rating-votes-div*')})\n",
    "        if votes is None:\n",
    "            continue\n",
    "        dataframe = []\n",
    "        dfObject = {\n",
    "            \"restaurant_id\": c,\n",
    "            \"name\": restaurant_name,\n",
    "            \"area\": locality,\n",
    "            \"restaurant_type\": type_,\n",
    "            \"rating\": ratings,\n",
    "            \"votes\": votes.string.split()[0],\n",
    "        }\n",
    "        list_restaurants.append(dfObject)\n",
    "        c = c + 1\n",
    "        if c == 81:\n",
    "            break\n",
    "    page = page + 1\n",
    "with open('rest_result.json', 'w') as outfile:\n",
    "    json.dump(list_restaurants, outfile, indent=4)"
   ]
  },
  {
   "cell_type": "code",
   "execution_count": 34,
   "metadata": {},
   "outputs": [],
   "source": [
    "df = pandas.DataFrame(list_restaurants)\n",
    "df.to_csv(\"rest_result.csv\", index=False, header=True)"
   ]
  },
  {
   "cell_type": "code",
   "execution_count": null,
   "metadata": {},
   "outputs": [],
   "source": []
  }
 ],
 "metadata": {
  "kernelspec": {
   "display_name": "Python 3",
   "language": "python",
   "name": "python3"
  },
  "language_info": {
   "codemirror_mode": {
    "name": "ipython",
    "version": 3
   },
   "file_extension": ".py",
   "mimetype": "text/x-python",
   "name": "python",
   "nbconvert_exporter": "python",
   "pygments_lexer": "ipython3",
   "version": "3.7.3"
  }
 },
 "nbformat": 4,
 "nbformat_minor": 2
}
